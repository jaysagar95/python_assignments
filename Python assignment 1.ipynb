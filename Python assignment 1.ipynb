{
 "cells": [
  {
   "cell_type": "markdown",
   "id": "7741f838",
   "metadata": {},
   "source": [
    "# Q1 Given a two list. Create a third list by picking an odd-index element fromthe first list and even index elements from the second"
   ]
  },
  {
   "cell_type": "code",
   "execution_count": 17,
   "id": "6024eb25",
   "metadata": {},
   "outputs": [
    {
     "name": "stdout",
     "output_type": "stream",
     "text": [
      "Element at odd-index from list one [6, 12, 18]\n",
      "Element at even-index from list two [4, 12, 20, 28]\n",
      "Printing final third list\n"
     ]
    },
    {
     "data": {
      "text/plain": [
       "[6, 12, 18, 4, 12, 20, 28]"
      ]
     },
     "execution_count": 17,
     "metadata": {},
     "output_type": "execute_result"
    }
   ],
   "source": [
    "list1 = [3,6,9,12,15,18,21]\n",
    "list2 = [4,8,12,16,20,24,28]\n",
    "a = list1[1::2]\n",
    "print(\"Element at odd-index from list one\",a)\n",
    "b = list2[0::2]\n",
    "print(\"Element at even-index from list two\",b)\n",
    "a.extend(b)\n",
    "print(\"Printing final third list\")\n",
    "a"
   ]
  },
  {
   "cell_type": "markdown",
   "id": "7f6ca087",
   "metadata": {},
   "source": [
    "# Q2 Given a number count the total number of digits in a number"
   ]
  },
  {
   "cell_type": "code",
   "execution_count": 19,
   "id": "1b33905a",
   "metadata": {},
   "outputs": [
    {
     "name": "stdout",
     "output_type": "stream",
     "text": [
      "enter the number123456\n",
      "The total no of digits in a given no are 6\n"
     ]
    }
   ],
   "source": [
    "count=0\n",
    "no = int (input(\"enter the number\"))\n",
    "while no>0:\n",
    "    rem=no%10\n",
    "    no=no//10\n",
    "    count+=1\n",
    "print(\"The total no of digits in a given no are\",count)    \n",
    "\n"
   ]
  },
  {
   "cell_type": "markdown",
   "id": "51124559",
   "metadata": {},
   "source": [
    "# Q3 Write a python program to print the numbers of a specified list after removing even numbers from it"
   ]
  },
  {
   "cell_type": "code",
   "execution_count": 36,
   "id": "769045a0",
   "metadata": {},
   "outputs": [
    {
     "name": "stdout",
     "output_type": "stream",
     "text": [
      "[25, 71, 65, 99, 27]\n"
     ]
    }
   ],
   "source": [
    "a = [25,70,62,71,36,65,18,99,27,82]\n",
    "b=[]\n",
    "for i in a:\n",
    "    if i%2==1:\n",
    "        b.append(i)\n",
    "print(b)    "
   ]
  },
  {
   "cell_type": "markdown",
   "id": "6d72f1e0",
   "metadata": {},
   "source": [
    "# Q4 Write a python program to generate and print a list of first and last 5 elements where the values are square of numbers between 1 and 30 (both included ) "
   ]
  },
  {
   "cell_type": "code",
   "execution_count": 28,
   "id": "83a9d43d",
   "metadata": {},
   "outputs": [
    {
     "name": "stdout",
     "output_type": "stream",
     "text": [
      "[1, 4, 9, 16, 25, 36, 49, 64, 81, 100, 121, 144, 169, 196, 225, 256, 289, 324, 361, 400, 441, 484, 529, 576, 625, 676, 729, 784, 841, 900]\n",
      "Enter the value of how many elements of starting to be printed5\n",
      "Your first 5 elements are [1, 4, 9, 16, 25]\n",
      "Enter the value of how many elements of end to be printed 5\n",
      "Your last 5 elements are [676, 729, 784, 841, 900]\n"
     ]
    }
   ],
   "source": [
    "no=1\n",
    "a = []\n",
    "while no<31:\n",
    "    b=no**2\n",
    "    a.append(b)\n",
    "    no+=1\n",
    "print(a) \n",
    "c=int(input(\"Enter the value of how many elements of starting to be printed\"))\n",
    "b = a[0:c:1]\n",
    "print(\"Your first\",c,\"elements are\",b)\n",
    "d=int(input(\"Enter the value of how many elements of end to be printed \"))\n",
    "e = a[-d::]\n",
    "print(\"Your last\",d,\"elements are\",e)    \n",
    "    \n",
    "    \n"
   ]
  },
  {
   "cell_type": "markdown",
   "id": "8fb0f0f0",
   "metadata": {},
   "source": [
    "# Q7 Write a program to change the position of every n-th value with the (n+1)th in a list "
   ]
  },
  {
   "cell_type": "code",
   "execution_count": 34,
   "id": "44d44782",
   "metadata": {},
   "outputs": [
    {
     "name": "stdout",
     "output_type": "stream",
     "text": [
      "[1, 0, 3, 2, 5, 4]\n"
     ]
    }
   ],
   "source": [
    "a = [0,1,2,3,4,5]\n",
    "for i in range(0,len(a),2):\n",
    "    a[i],a[i+1] = a[i+1],a[i]\n",
    "print(a)    "
   ]
  },
  {
   "cell_type": "markdown",
   "id": "c8cf74b9",
   "metadata": {},
   "source": [
    "# Q8 Write a python program to iterate over two lists simultaneously"
   ]
  },
  {
   "cell_type": "code",
   "execution_count": 42,
   "id": "ef0f8d50",
   "metadata": {},
   "outputs": [
    {
     "data": {
      "text/plain": [
       "[1, 6, 2, 7, 3, 8, 4, 9, 5, 10]"
      ]
     },
     "execution_count": 42,
     "metadata": {},
     "output_type": "execute_result"
    }
   ],
   "source": [
    "a = [1,2,3,4,5]\n",
    "b = [6,7,8,9,10]\n",
    "c = []\n",
    "j=0\n",
    "for i in a:\n",
    "    c.append(i)\n",
    "    c.append(b[j])\n",
    "    j+=1\n",
    "c"
   ]
  },
  {
   "cell_type": "markdown",
   "id": "9d382c46",
   "metadata": {},
   "source": [
    "# Q10 Write a python program to remove duplicates from a list of list"
   ]
  },
  {
   "cell_type": "code",
   "execution_count": 43,
   "id": "62a98280",
   "metadata": {},
   "outputs": [],
   "source": [
    "a=[[10,20],[40],[30,56,25],[10,20],[33],[40]]\n",
    "\n",
    "\n",
    " "
   ]
  },
  {
   "cell_type": "code",
   "execution_count": 46,
   "id": "97847111",
   "metadata": {},
   "outputs": [
    {
     "ename": "SyntaxError",
     "evalue": "invalid syntax (Temp/ipykernel_28036/790891636.py, line 1)",
     "output_type": "error",
     "traceback": [
      "\u001b[1;36m  File \u001b[1;32m\"C:\\Users\\Jay\\AppData\\Local\\Temp/ipykernel_28036/790891636.py\"\u001b[1;36m, line \u001b[1;32m1\u001b[0m\n\u001b[1;33m    Python program to iterate over two lists simultaneously.\u001b[0m\n\u001b[1;37m           ^\u001b[0m\n\u001b[1;31mSyntaxError\u001b[0m\u001b[1;31m:\u001b[0m invalid syntax\n"
     ]
    }
   ],
   "source": [
    " Python program to iterate over two lists simultaneously.\n",
    "a=[1,2,3,4]\n",
    "b=[10,20,30,40,50]\n",
    "for i in a:\n",
    "    for j in b:\n",
    "        print(i,':',j,end='   ')\n",
    "print()\n"
   ]
  },
  {
   "cell_type": "code",
   "execution_count": null,
   "id": "44dedfc0",
   "metadata": {},
   "outputs": [],
   "source": []
  }
 ],
 "metadata": {
  "kernelspec": {
   "display_name": "Python 3 (ipykernel)",
   "language": "python",
   "name": "python3"
  },
  "language_info": {
   "codemirror_mode": {
    "name": "ipython",
    "version": 3
   },
   "file_extension": ".py",
   "mimetype": "text/x-python",
   "name": "python",
   "nbconvert_exporter": "python",
   "pygments_lexer": "ipython3",
   "version": "3.9.7"
  }
 },
 "nbformat": 4,
 "nbformat_minor": 5
}
